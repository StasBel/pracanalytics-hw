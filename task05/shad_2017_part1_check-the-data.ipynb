{
 "cells": [
  {
   "cell_type": "code",
   "execution_count": 8,
   "metadata": {},
   "outputs": [],
   "source": [
    "import scipy\n",
    "import matplotlib\n",
    "import numpy as np\n",
    "import pandas as pd\n",
    "import numpy.ma as ma\n",
    "import seaborn as sns\n",
    "import matplotlib.pyplot as plt\n",
    "\n",
    "from sklearn import linear_model\n",
    "\n",
    "# Plot\n",
    "%matplotlib inline  \n",
    "DEFAULT_DPI = 600\n",
    "matplotlib.rcParams['figure.figsize'] = (16, 8)"
   ]
  },
  {
   "cell_type": "markdown",
   "metadata": {},
   "source": [
    "## Input some data and run correlations"
   ]
  },
  {
   "cell_type": "code",
   "execution_count": 3,
   "metadata": {
    "scrolled": false
   },
   "outputs": [
    {
     "ename": "UnicodeEncodeError",
     "evalue": "'latin-1' codec can't encode characters in position 43-44: ordinal not in range(256)",
     "output_type": "error",
     "traceback": [
      "\u001b[0;31m---------------------------------------------------------------------------\u001b[0m",
      "\u001b[0;31mUnicodeEncodeError\u001b[0m                        Traceback (most recent call last)",
      "\u001b[0;32m<ipython-input-3-a8270f7ab7ad>\u001b[0m in \u001b[0;36m<module>\u001b[0;34m()\u001b[0m\n\u001b[1;32m      9\u001b[0m \u001b[0mncols\u001b[0m\u001b[0;34m=\u001b[0m\u001b[0;36m18\u001b[0m\u001b[0;34m\u001b[0m\u001b[0m\n\u001b[1;32m     10\u001b[0m data = np.loadtxt('dataset_16', delimiter='\\t', \n\u001b[0;32m---> 11\u001b[0;31m                   converters=dict(zip(range(ncols), [convert]*ncols)))\n\u001b[0m\u001b[1;32m     12\u001b[0m \u001b[0mdataT\u001b[0m \u001b[0;34m=\u001b[0m \u001b[0mdata\u001b[0m\u001b[0;34m.\u001b[0m\u001b[0mT\u001b[0m\u001b[0;34m\u001b[0m\u001b[0m\n\u001b[1;32m     13\u001b[0m \u001b[0;34m\u001b[0m\u001b[0m\n",
      "\u001b[0;32m~/.virtualenvs/pracanalytics-hw-64oIrb4y/lib/python3.6/site-packages/numpy/lib/npyio.py\u001b[0m in \u001b[0;36mloadtxt\u001b[0;34m(fname, dtype, comments, delimiter, converters, skiprows, usecols, unpack, ndmin)\u001b[0m\n\u001b[1;32m    980\u001b[0m             \u001b[0;32mwhile\u001b[0m \u001b[0;32mnot\u001b[0m \u001b[0mfirst_vals\u001b[0m\u001b[0;34m:\u001b[0m\u001b[0;34m\u001b[0m\u001b[0m\n\u001b[1;32m    981\u001b[0m                 \u001b[0mfirst_line\u001b[0m \u001b[0;34m=\u001b[0m \u001b[0mnext\u001b[0m\u001b[0;34m(\u001b[0m\u001b[0mfh\u001b[0m\u001b[0;34m)\u001b[0m\u001b[0;34m\u001b[0m\u001b[0m\n\u001b[0;32m--> 982\u001b[0;31m                 \u001b[0mfirst_vals\u001b[0m \u001b[0;34m=\u001b[0m \u001b[0msplit_line\u001b[0m\u001b[0;34m(\u001b[0m\u001b[0mfirst_line\u001b[0m\u001b[0;34m)\u001b[0m\u001b[0;34m\u001b[0m\u001b[0m\n\u001b[0m\u001b[1;32m    983\u001b[0m         \u001b[0;32mexcept\u001b[0m \u001b[0mStopIteration\u001b[0m\u001b[0;34m:\u001b[0m\u001b[0;34m\u001b[0m\u001b[0m\n\u001b[1;32m    984\u001b[0m             \u001b[0;31m# End of lines reached\u001b[0m\u001b[0;34m\u001b[0m\u001b[0;34m\u001b[0m\u001b[0m\n",
      "\u001b[0;32m~/.virtualenvs/pracanalytics-hw-64oIrb4y/lib/python3.6/site-packages/numpy/lib/npyio.py\u001b[0m in \u001b[0;36msplit_line\u001b[0;34m(line)\u001b[0m\n\u001b[1;32m    956\u001b[0m \u001b[0;34m\u001b[0m\u001b[0m\n\u001b[1;32m    957\u001b[0m         \"\"\"\n\u001b[0;32m--> 958\u001b[0;31m         \u001b[0mline\u001b[0m \u001b[0;34m=\u001b[0m \u001b[0masbytes\u001b[0m\u001b[0;34m(\u001b[0m\u001b[0mline\u001b[0m\u001b[0;34m)\u001b[0m\u001b[0;34m\u001b[0m\u001b[0m\n\u001b[0m\u001b[1;32m    959\u001b[0m         \u001b[0;32mif\u001b[0m \u001b[0mcomments\u001b[0m \u001b[0;32mis\u001b[0m \u001b[0;32mnot\u001b[0m \u001b[0;32mNone\u001b[0m\u001b[0;34m:\u001b[0m\u001b[0;34m\u001b[0m\u001b[0m\n\u001b[1;32m    960\u001b[0m             \u001b[0mline\u001b[0m \u001b[0;34m=\u001b[0m \u001b[0mregex_comments\u001b[0m\u001b[0;34m.\u001b[0m\u001b[0msplit\u001b[0m\u001b[0;34m(\u001b[0m\u001b[0masbytes\u001b[0m\u001b[0;34m(\u001b[0m\u001b[0mline\u001b[0m\u001b[0;34m)\u001b[0m\u001b[0;34m,\u001b[0m \u001b[0mmaxsplit\u001b[0m\u001b[0;34m=\u001b[0m\u001b[0;36m1\u001b[0m\u001b[0;34m)\u001b[0m\u001b[0;34m[\u001b[0m\u001b[0;36m0\u001b[0m\u001b[0;34m]\u001b[0m\u001b[0;34m\u001b[0m\u001b[0m\n",
      "\u001b[0;32m~/.virtualenvs/pracanalytics-hw-64oIrb4y/lib/python3.6/site-packages/numpy/compat/py3k.py\u001b[0m in \u001b[0;36masbytes\u001b[0;34m(s)\u001b[0m\n\u001b[1;32m     33\u001b[0m         \u001b[0;32mif\u001b[0m \u001b[0misinstance\u001b[0m\u001b[0;34m(\u001b[0m\u001b[0ms\u001b[0m\u001b[0;34m,\u001b[0m \u001b[0mbytes\u001b[0m\u001b[0;34m)\u001b[0m\u001b[0;34m:\u001b[0m\u001b[0;34m\u001b[0m\u001b[0m\n\u001b[1;32m     34\u001b[0m             \u001b[0;32mreturn\u001b[0m \u001b[0ms\u001b[0m\u001b[0;34m\u001b[0m\u001b[0m\n\u001b[0;32m---> 35\u001b[0;31m         \u001b[0;32mreturn\u001b[0m \u001b[0mstr\u001b[0m\u001b[0;34m(\u001b[0m\u001b[0ms\u001b[0m\u001b[0;34m)\u001b[0m\u001b[0;34m.\u001b[0m\u001b[0mencode\u001b[0m\u001b[0;34m(\u001b[0m\u001b[0;34m'latin1'\u001b[0m\u001b[0;34m)\u001b[0m\u001b[0;34m\u001b[0m\u001b[0m\n\u001b[0m\u001b[1;32m     36\u001b[0m \u001b[0;34m\u001b[0m\u001b[0m\n\u001b[1;32m     37\u001b[0m     \u001b[0;32mdef\u001b[0m \u001b[0masstr\u001b[0m\u001b[0;34m(\u001b[0m\u001b[0ms\u001b[0m\u001b[0;34m)\u001b[0m\u001b[0;34m:\u001b[0m\u001b[0;34m\u001b[0m\u001b[0m\n",
      "\u001b[0;31mUnicodeEncodeError\u001b[0m: 'latin-1' codec can't encode characters in position 43-44: ordinal not in range(256)"
     ]
    }
   ],
   "source": [
    "def convert(s):\n",
    "    dict = {'пн':1, 'вт':2, 'ср':3, 'чт':4, 'пт':5, 'сб':6, 'вс':7, '-':0, '':0}\n",
    "    if s in dict.keys():\n",
    "        return dict[s]\n",
    "    else:\n",
    "        return float(s)\n",
    "\n",
    "# Dataset1\n",
    "ncols=18\n",
    "data = np.loadtxt('dataset_16', delimiter='\\t', \n",
    "                  converters=dict(zip(range(ncols), [convert] * ncols)))\n",
    "dataT = data.T\n",
    "\n",
    "ax = plt.axes()\n",
    "seaborn.heatmap(np.corrcoef(dataT), annot=True, ax=ax)"
   ]
  },
  {
   "cell_type": "code",
   "execution_count": 29,
   "metadata": {},
   "outputs": [
    {
     "data": {
      "text/plain": [
       "count    1000.0\n",
       "mean        1.0\n",
       "std         0.0\n",
       "min         1.0\n",
       "25%         1.0\n",
       "50%         1.0\n",
       "75%         1.0\n",
       "max         1.0\n",
       "dtype: float64"
      ]
     },
     "execution_count": 29,
     "metadata": {},
     "output_type": "execute_result"
    }
   ],
   "source": [
    "#  dataT[1] is const==1, it has no correlation with other values\n",
    "pd.Series(dataT[1]).describe()"
   ]
  },
  {
   "cell_type": "code",
   "execution_count": 14,
   "metadata": {},
   "outputs": [],
   "source": [
    "# for visualization purposes\n",
    "# pd.DataFrame(data)"
   ]
  },
  {
   "cell_type": "markdown",
   "metadata": {},
   "source": [
    "## Draw some histograms"
   ]
  },
  {
   "cell_type": "code",
   "execution_count": 5,
   "metadata": {
    "scrolled": false
   },
   "outputs": [
    {
     "data": {
      "text/plain": [
       "(array([   1.,    0.,    0.,    5.,    1.,    1.,    5.,    6.,    3.,\n",
       "           8.,    8.,   14.,   19.,   27.,   37.,   38.,   60.,  106.,\n",
       "         119.,  542.]),\n",
       " array([  1.24092134e+09,   1.24966215e+09,   1.25840296e+09,\n",
       "          1.26714377e+09,   1.27588458e+09,   1.28462540e+09,\n",
       "          1.29336621e+09,   1.30210702e+09,   1.31084783e+09,\n",
       "          1.31958864e+09,   1.32832946e+09,   1.33707027e+09,\n",
       "          1.34581108e+09,   1.35455189e+09,   1.36329270e+09,\n",
       "          1.37203351e+09,   1.38077433e+09,   1.38951514e+09,\n",
       "          1.39825595e+09,   1.40699676e+09,   1.41573757e+09]),\n",
       " <a list of 20 Patch objects>)"
      ]
     },
     "execution_count": 5,
     "metadata": {},
     "output_type": "execute_result"
    },
    {
     "data": {
      "image/png": "[encoded data removed]",
      "text/plain": [
       "<matplotlib.figure.Figure at 0x8267690>"
      ]
     },
     "metadata": {},
     "output_type": "display_data"
    }
   ],
   "source": [
    "# plot histogram\n",
    "plt.hist(dataT[8], 20)"
   ]
  },
  {
   "cell_type": "markdown",
   "metadata": {},
   "source": [
    "### Problem: this histogram gives no idea about what's goint on near max value"
   ]
  },
  {
   "cell_type": "code",
   "execution_count": 30,
   "metadata": {},
   "outputs": [
    {
     "data": {
      "text/plain": [
       "(array([   1.,    0.,    0.,    0.,    0.,    0.,    0.,    0.,    3.,\n",
       "          23.,   39.,   52.,   38.,   56.,   88.,  116.,  147.,  202.,\n",
       "         175.,   60.]),\n",
       " array([  0.        ,   0.9489623 ,   1.89792459,   2.84688689,\n",
       "          3.79584918,   4.74481148,   5.69377377,   6.64273607,\n",
       "          7.59169836,   8.54066066,   9.48962295,  10.43858525,\n",
       "         11.38754754,  12.33650984,  13.28547213,  14.23443443,\n",
       "         15.18339672,  16.13235902,  17.08132132,  18.03028361,  18.97924591]),\n",
       " <a list of 20 Patch objects>)"
      ]
     },
     "execution_count": 30,
     "metadata": {},
     "output_type": "execute_result"
    },
    {
     "data": {
      "image/png": "[encoded data removed]",
      "text/plain": [
       "<matplotlib.figure.Figure at 0x8d27190>"
      ]
     },
     "metadata": {},
     "output_type": "display_data"
    }
   ],
   "source": [
    "# Try another histogram after log-transformation\n",
    "\n",
    "log_col = np.log(1+ max(dataT[8]) - dataT[8])\n",
    "plt.hist(log_col, 20)"
   ]
  },
  {
   "cell_type": "markdown",
   "metadata": {},
   "source": [
    "## Run PCA to see if we can exclude some cols"
   ]
  },
  {
   "cell_type": "code",
   "execution_count": 33,
   "metadata": {},
   "outputs": [
    {
     "name": "stdout",
     "output_type": "stream",
     "text": [
      "Explained variance\n",
      "0.162909232204\n",
      "0.0961964897146\n",
      "0.0903390107518\n",
      "0.0795366650379\n",
      "0.0724194815532\n",
      "0.0678208388368\n",
      "0.0608106163986\n",
      "0.0592239323581\n",
      "0.0582234111538\n",
      "0.0549020071282\n",
      "0.0499441844532\n",
      "0.0428196090798\n",
      "0.0357436953625\n",
      "0.0298848223833\n",
      "0.0245472447549\n",
      "0.0146554982183\n",
      "2.32606107052e-05\n",
      "\n",
      "\n",
      "Coords of first eigenvector\n",
      "0 \t0.0175003637936\n",
      "1 \t-0.168885692923\n",
      "2 \t-0.52100817987\n",
      "3 \t0.0278966722691\n",
      "4 \t0.0385363112924\n",
      "5 \t0.0370458791086\n",
      "6 \t-0.0132258736359\n",
      "7 \t0.0372322041519\n",
      "8 \t0.0223127640971\n",
      "9 \t-0.0726972346243\n",
      "10 \t-0.00921520672047\n",
      "11 \t0.0430394013957\n",
      "12 \t-0.0690254404734\n",
      "13 \t-0.466920469605\n",
      "14 \t-0.520386768301\n",
      "15 \t-0.437178657798\n",
      "16 \t-0.0458055201275\n"
     ]
    }
   ],
   "source": [
    "# https://www.clear.rice.edu/comp130/12spring/pca/pca_docs.shtml\n",
    "\n",
    "from matplotlib.mlab import PCA\n",
    "\n",
    "# delete cols with no variance\n",
    "data2 = scipy.delete(data,1,1)\n",
    "\n",
    "# run PCA\n",
    "pca1 = PCA(data2)\n",
    "\n",
    "# % of explained variance\n",
    "print \"Explained variance\"\n",
    "for d in pca1.fracs:\n",
    "    print d\n",
    "\n",
    "# first eigenvector\n",
    "print \"\\n\\nCoords of first eigenvector\"\n",
    "for i, d in enumerate(pca1.Wt[0]):\n",
    "    print i, '\\t', d\n",
    "\n",
    "#print \"\\n\\nCoords of second eigenvector\"\n",
    "#for d in pca1.Wt[1]:\n",
    "#    print d"
   ]
  },
  {
   "cell_type": "markdown",
   "metadata": {},
   "source": [
    "First eigenvector doesn't explain much variance (16.3% of total variance).\n",
    "\n",
    "It correlates with columns #2, #13, #14, #15.\n",
    "\n",
    "If we decide that 16.3% of variance is ok for us, we could drop all other columns.\n",
    "\n",
    "(Remember that column #1 in original data was dropped before PCA, and column numbers are currently shifted!)"
   ]
  }
 ],
 "metadata": {
  "kernelspec": {
   "display_name": "Python 3",
   "language": "python",
   "name": "python3"
  },
  "language_info": {
   "codemirror_mode": {
    "name": "ipython",
    "version": 3
   },
   "file_extension": ".py",
   "mimetype": "text/x-python",
   "name": "python",
   "nbconvert_exporter": "python",
   "pygments_lexer": "ipython3",
   "version": "3.6.2"
  }
 },
 "nbformat": 4,
 "nbformat_minor": 1
}
