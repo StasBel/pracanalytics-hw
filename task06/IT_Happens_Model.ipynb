{
 "cells": [
  {
   "cell_type": "code",
   "execution_count": null,
   "metadata": {
    "collapsed": false
   },
   "outputs": [],
   "source": [
    "!ls"
   ]
  },
  {
   "cell_type": "code",
   "execution_count": 71,
   "metadata": {
    "collapsed": false
   },
   "outputs": [
    {
     "name": "stdout",
     "output_type": "stream",
     "text": [
      "{\"tags\": [\"providers\", \"women\", \"support\"], \"story_id\": 7, \"published\": \"2008-10-28 14:43:00\", \"tag_names\": [\"\\u043f\\u0440\\u043e\\u0432\\u0430\\u0439\\u0434\\u0435\\u0440\\u044b\", \"\\u043f\\u0440\\u0435\\u043a\\u0440\\u0430\\u0441\\u043d\\u044b\\u0439 \\u043f\\u043e\\u043b\", \"\\u0441\\u0430\\u043f\\u043f\\u043e\\u0440\\u0442\"], \"likes\": 0, \"text\": \"<p>\\u042f \\u0438\\u0441\\u043a\\u0440\\u0435\\u043d\\u043d\\u0435 \\u0445\\u0440\\u0435\\u043d\\u0435\\u044e \\u0441\\u043e \\u0441\\u0432\\u043e\\u0435\\u0439 \\u043f\\u043e\\u0434\\u0434\\u0435\\u0440\\u0436\\u043a\\u0438.</p>\\n<p>\\u0418\\u043d\\u0435\\u0442 \\u043b\\u0430\\u0433\\u0430\\u0435\\u0442 \\u0445\\u043e\\u0442\\u044f \\u0431\\u044b \\u043e\\u0434\\u0438\\u043d \\u0440\\u0430\\u0437 \\u0432 \\u043d\\u0435\\u0434\\u0435\\u043b\\u044e. \\u041f\\u0440\\u0438\\u0447\\u0435\\u043c, \\u0432 \\u0442\\u043e\\u0442 \\u0441\\u0430\\u043c\\u044b\\u0439 \\u0434\\u0435\\u043d\\u044c, \\u043a\\u043e\\u0433\\u0434\\u0430 \\u043c\\u043e\\u0438 \\u043d\\u0435\\u0440\\u0432\\u044b \\u043d\\u0430\\u043a\\u0430\\u043b\\u0435\\u043d\\u044b \\u0434\\u043e \\u043f\\u0440\\u0435\\u0434\\u0435\\u043b\\u0430, \\u0438 \\u0435\\u0434\\u0438\\u043d\\u0441\\u0442\\u0432\\u0435\\u043d\\u043d\\u043e\\u0435 \\u0436\\u0435\\u043b\\u0430\\u043d\\u0438\\u0435, \\u043a\\u043e\\u0442\\u043e\\u0440\\u043e\\u0435 \\u043c\\u0435\\u043d\\u044f \\u043f\\u0440\\u0435\\u0441\\u043b\\u0435\\u0434\\u0443\\u0435\\u0442 - \\u043f\\u0440\\u043e\\u0441\\u0442\\u043e \\u0442\\u0443\\u043f\\u043e \\u0441\\u0435\\u0441\\u0442\\u044c \\u0432 \\u0438\\u043d\\u0435\\u0442 \\u0438 \\u0440\\u0430\\u0441\\u0441\\u043b\\u0430\\u0431\\u0438\\u0442\\u044c\\u0441\\u044f.</p>\\n<p>\\u0418 \\u0438\\u043c\\u0435\\u043d\\u043d\\u043e \\u0432 \\u044d\\u0442\\u043e\\u0442 \\u0434\\u0435\\u043d\\u044c \\u043c\\u043e\\u0439 \\u043c\\u043d\\u043e\\u0433\\u043e\\u043e\\u0431\\u043e\\u0436\\u0430\\u0435\\u043c\\u044b\\u0439 \\u0438\\u043d\\u0435\\u0442 \\u0433\\u043e\\u0432\\u043e\\u0440\\u0438\\u0442 \\u043c\\u043d\\u0435 \\\"\\u0445\\u0440\\u0435\\u043d\\\".</p>\\n<p>\\u0420\\u0430\\u0441\\u043a\\u0430\\u043b\\u0435\\u043d\\u043d\\u044b\\u0435 \\u0434\\u043e\\u0431\\u0435\\u043b\\u0430 \\u043d\\u0435\\u0440\\u0432\\u044b \\u0442\\u0440\\u0435\\u0431\\u0443\\u044e\\u0442 \\u0442\\u043e\\u0433\\u043e, \\u0447\\u0442\\u043e\\u0431\\u044b \\u044f \\u0441\\u0440\\u043e\\u0447\\u043d\\u043e \\u043f\\u0440\\u043e\\u043b\\u0438\\u043b\\u0430 \\u0447\\u044c\\u044e-\\u043d\\u0438\\u0431\\u0443\\u0434\\u044c \\u043a\\u0440\\u043e\\u0432\\u044c. \\u0438 \\u043e\\u0431\\u044b\\u0447\\u043d\\u043e \\u044d\\u0442\\u043e \\u043a\\u0430\\u0441\\u0430\\u0435\\u0442\\u0441\\u044f \\u0441\\u043e\\u0431\\u0441\\u0442\\u0432\\u0435\\u043d\\u043d\\u043e \\u043f\\u043e\\u0434\\u0434\\u0435\\u0440\\u0436\\u043a\\u0438, \\u043d\\u043e, \\u0441\\u0443\\u043a\\u0430, \\u041a\\u0410\\u0416\\u0414\\u042b\\u0419 \\u0440\\u0430\\u0437 \\u043a\\u0430\\u043a \\u044f \\u0442\\u0443\\u0434\\u0430 \\u0437\\u0432\\u043e\\u043d\\u044e, \\u043c\\u043d\\u0435 \\u043a\\u0430\\u043a \\u0441\\u043f\\u0435\\u0446\\u0438\\u0430\\u043b\\u044c\\u043d\\u043e \\u043e\\u0442\\u0432\\u0435\\u0447\\u0430\\u0435\\u0442 \\u043c\\u043e\\u043b\\u043e\\u0434\\u043e\\u0439 \\u043c\\u0443\\u0436\\u0441\\u043a\\u043e\\u0439 \\u0433\\u043e\\u043b\\u043e\\u0441 \\u0438\\u0437 \\u0441\\u0435\\u0440\\u0438\\u0438 \\\"\\u0442\\u0440\\u0430\\u0445\\u043d\\u0443\\u0442\\u044c, \\u0447\\u0442\\u043e\\u0431\\u044b \\u0443\\u0441\\u043b\\u044b\\u0448\\u0430\\u0442\\u044c, \\u043a\\u0430\\u043a \\u043e\\u043d\\u043e \\u0441\\u0442\\u043e\\u043d\\u0435\\u0442\\\".</p>\\n<p>\\u0418 \\u0432\\u0441\\u0435.</p>\\n<p>\\u042f \\u0440\\u0430\\u0441\\u043f\\u043b\\u044b\\u0432\\u0430\\u044e\\u0441\\u044c \\u043f\\u043e \\u0441\\u0442\\u0443\\u043b\\u0443 \\u0438 \\u043a\\u043e\\u043a\\u0435\\u0442\\u043b\\u0438\\u0432\\u043e \\u043e\\u0442\\u0432\\u0435\\u0447\\u0430\\u044e, \\u043c\\u043e\\u043b, \\u0433\\u043e\\u0441\\u043f\\u043e\\u0434\\u0430, \\u043a\\u043e\\u0433\\u0434\\u0430 \\u0431\\u0443\\u0434\\u0435\\u0442 \\u0440\\u0430\\u0431\\u043e\\u0442\\u0430\\u0442\\u044c \\u0438\\u043d\\u0442\\u0435\\u0440\\u043d\\u0435\\u0442? \\u0418 \\u0432 \\u043e\\u0442\\u0432\\u0435\\u0442 \\u0432\\u0441\\u0435\\u0433\\u0434\\u0430 \\u043f\\u043e\\u043b\\u0443\\u0447\\u0430\\u044e \\u0432\\u0441\\u0435\\u0432\\u043e\\u0437\\u043c\\u043e\\u0436\\u043d\\u044b\\u0435 \\u043d\\u0438\\u0436\\u0430\\u0439\\u0448\\u0438\\u0435 \\u0438\\u0437\\u0432\\u0438\\u043d\\u0435\\u043d\\u0438\\u044f \\u0438 \\u043e\\u0442\\u0432\\u0435\\u0442, \\u0447\\u0442\\u043e \\u0437\\u0430\\u0440\\u0430\\u0431\\u043e\\u0442\\u0430\\u0435\\u0442 \\u043c\\u0435\\u0441\\u044f\\u0446\\u0430 \\u0447\\u0435\\u0440\\u0435\\u0437 \\u0434\\u0432\\u0430 \\u043c\\u0438\\u043d\\u0438\\u043c\\u0443\\u043c.<br>\\u0418 \\u044f \\u0441\\u043e \\u0441\\u0447\\u0430\\u0441\\u0442\\u043b\\u0438\\u0432\\u043e\\u0439 \\u0443\\u043b\\u044b\\u0431\\u043a\\u043e\\u0439, \\u043c\\u043e\\u043b, \\u043a\\u0430\\u043a\\u0438\\u0435 \\u0432\\u044b \\u0442\\u0430\\u043c \\u0437\\u0430\\u0431\\u043e\\u0442\\u043b\\u0438\\u0432\\u044b\\u0435 \\u0438 \\u043c\\u0438\\u043b\\u044b\\u0435, \\u0441\\u0443\\u043a\\u0430 \\u0432\\u0435\\u0448\\u0430\\u044e \\u0442\\u0440\\u0443\\u0431\\u043a\\u0443.</p>\\n<p>\\u0411\\u043b\\u044f\\u0434\\u044c, \\u043a\\u0430\\u043a \\u0436\\u0435 \\u043c\\u0435\\u043d\\u044f \\u0437\\u0430\\u0435\\u0431\\u0430\\u043b\\u043e \\u0431\\u044b\\u0442\\u044c \\u0431\\u043b\\u043e\\u043d\\u0434\\u0438\\u043d\\u043a\\u043e\\u0439...</p>\", \"title\": \"\\u041a\\u0440\\u044b\\u043b\\u044c\\u044f, \\u043d\\u043e\\u0433\\u0438, \\u0433\\u043b\\u0430\\u0432\\u043d\\u043e\\u0435 - \\u0433\\u043e\\u043b\\u043e\\u0441!\"}\r\n"
     ]
    }
   ],
   "source": [
    "!head -1 ithappens.json"
   ]
  },
  {
   "cell_type": "code",
   "execution_count": 1,
   "metadata": {
    "collapsed": false
   },
   "outputs": [],
   "source": [
    "import json\n",
    "\n",
    "data = []\n",
    "with open('ithappens.json', 'r') as f:\n",
    "    for line in f:\n",
    "        if len(line):\n",
    "            try:\n",
    "                data.append(json.loads(line))\n",
    "            except:\n",
    "                pass"
   ]
  },
  {
   "cell_type": "code",
   "execution_count": 2,
   "metadata": {
    "collapsed": false
   },
   "outputs": [
    {
     "name": "stdout",
     "output_type": "stream",
     "text": [
      "41474\n"
     ]
    }
   ],
   "source": [
    "print len(data)"
   ]
  },
  {
   "cell_type": "code",
   "execution_count": 74,
   "metadata": {
    "collapsed": false
   },
   "outputs": [
    {
     "name": "stdout",
     "output_type": "stream",
     "text": [
      "<type 'dict'>\n"
     ]
    }
   ],
   "source": [
    "print type(data[1])"
   ]
  },
  {
   "cell_type": "code",
   "execution_count": 75,
   "metadata": {
    "collapsed": false
   },
   "outputs": [
    {
     "name": "stdout",
     "output_type": "stream",
     "text": [
      "[u'tags', u'story_id', u'published', u'tag_names', u'likes', u'text', u'title']\n"
     ]
    }
   ],
   "source": [
    "print data[1].keys()"
   ]
  },
  {
   "cell_type": "code",
   "execution_count": 76,
   "metadata": {
    "collapsed": false
   },
   "outputs": [
    {
     "name": "stdout",
     "output_type": "stream",
     "text": [
      "<p>Приходит семья — папа, мама, сын.</p>\n",
      "<p>Папа — вот, у вас в ремонте был наш адаптер от ноута.<br>Я – и?<br>Папа — три месяца работал, теперь не работает!</p>\n",
      "<p>Папа протягивает жуткую лохматку, перевязанную изолентой.</p>\n",
      "<p>Я (осторожно) — Видите ли, не очень верится, что мы предоставили вам адаптер в ТАКОМ виде.<br>Папа — Да нет, это я, когда он перестал работать, вскрыл его и попаял там малость…<br>Мама (с гордостью) — он у нас электротехник!<br>Я — одну секундочку, сейчас я позову мастера.</p>\n",
      "<p>Приходит мастер (Сергей).</p>\n",
      "<p>Сергей — ну?<br>Я — посмотри, пожалуйста, в чем проблема.<br>Сергей (после некоторого раздумья) — вижу, что паяли двое, один — умный, другой — клинический идиот.<br>Я (деликатно покашливая) — Сережа, адаптер был у НАС в ремонте…<br>Сергей (меланхолично) — так, с умным понятно…</p>\n",
      "<p>Папа багровеет, мама краснеет — конфуз, блин.</p>\n"
     ]
    }
   ],
   "source": [
    "print data[1]['text']"
   ]
  },
  {
   "cell_type": "code",
   "execution_count": 3,
   "metadata": {
    "collapsed": false
   },
   "outputs": [],
   "source": [
    "texts = [elem['text'] for elem in data if 'text' in elem]"
   ]
  },
  {
   "cell_type": "code",
   "execution_count": 4,
   "metadata": {
    "collapsed": false
   },
   "outputs": [
    {
     "name": "stdout",
     "output_type": "stream",
     "text": [
      "41464\n"
     ]
    }
   ],
   "source": [
    "print sum(len(text) > 0 for text in texts)"
   ]
  },
  {
   "cell_type": "code",
   "execution_count": 5,
   "metadata": {
    "collapsed": true
   },
   "outputs": [],
   "source": [
    "likes = [elem.get('likes', 0) for elem in data if 'text' in elem]"
   ]
  },
  {
   "cell_type": "code",
   "execution_count": 80,
   "metadata": {
    "collapsed": false
   },
   "outputs": [
    {
     "name": "stdout",
     "output_type": "stream",
     "text": [
      "41464 [0, 1, 1, 1, 0]\n"
     ]
    }
   ],
   "source": [
    "print len(likes), likes[:5]"
   ]
  },
  {
   "cell_type": "code",
   "execution_count": 81,
   "metadata": {
    "collapsed": false
   },
   "outputs": [
    {
     "name": "stdout",
     "output_type": "stream",
     "text": [
      "[11506, 11523, 14522, 14792, 14792]\n"
     ]
    }
   ],
   "source": [
    "print sorted(likes)[-5:]"
   ]
  },
  {
   "cell_type": "code",
   "execution_count": null,
   "metadata": {
    "collapsed": true
   },
   "outputs": [],
   "source": [
    "CountVectorizer?"
   ]
  },
  {
   "cell_type": "code",
   "execution_count": 6,
   "metadata": {
    "collapsed": true
   },
   "outputs": [],
   "source": [
    "from sklearn.feature_extraction.text import CountVectorizer\n",
    "\n",
    "vectorizer = CountVectorizer(min_df=100)\n",
    "dataset = vectorizer.fit_transform(texts)"
   ]
  },
  {
   "cell_type": "code",
   "execution_count": 7,
   "metadata": {
    "collapsed": false
   },
   "outputs": [
    {
     "name": "stdout",
     "output_type": "stream",
     "text": [
      "7526\n",
      "(41464, 7526)\n"
     ]
    }
   ],
   "source": [
    "print len(vectorizer.vocabulary_)\n",
    "print dataset.shape"
   ]
  },
  {
   "cell_type": "code",
   "execution_count": 84,
   "metadata": {
    "collapsed": false
   },
   "outputs": [
    {
     "name": "stdout",
     "output_type": "stream",
     "text": [
      "  (0, 87853)\t1\n",
      "  (0, 267104)\t1\n",
      "  (0, 230449)\t2\n",
      "  (0, 221553)\t1\n",
      "  (0, 170497)\t2\n",
      "  (0, 86245)\t3\n",
      "  (0, 104400)\t1\n",
      "  (0, 266916)\t1\n",
      "  (0, 29004)\t1\n",
      "  (0, 143540)\t1\n",
      "  (0, 205077)\t2\n",
      "  (0, 128398)\t1\n",
      "  (0, 193879)\t1\n",
      "  (0, 248062)\t1\n",
      "  (0, 219280)\t1\n",
      "  (0, 58076)\t2\n",
      "  (0, 95115)\t2\n",
      "  (0, 116701)\t1\n",
      "  (0, 133179)\t2\n",
      "  (0, 122303)\t1\n",
      "  (0, 60873)\t1\n",
      "  (0, 186500)\t1\n",
      "  (0, 66531)\t1\n",
      "  (0, 67516)\t1\n",
      "  (0, 100241)\t1\n",
      "  :\t:\n",
      "  (0, 178068)\t1\n",
      "  (0, 40370)\t1\n",
      "  (0, 135256)\t1\n",
      "  (0, 83747)\t1\n",
      "  (0, 271071)\t1\n",
      "  (0, 77581)\t1\n",
      "  (0, 113716)\t1\n",
      "  (0, 269762)\t1\n",
      "  (0, 55939)\t1\n",
      "  (0, 115120)\t1\n",
      "  (0, 4658)\t1\n",
      "  (0, 242299)\t1\n",
      "  (0, 255899)\t1\n",
      "  (0, 90038)\t1\n",
      "  (0, 41935)\t1\n",
      "  (0, 243719)\t1\n",
      "  (0, 69558)\t1\n",
      "  (0, 114923)\t1\n",
      "  (0, 32613)\t1\n",
      "  (0, 249982)\t1\n",
      "  (0, 25359)\t1\n",
      "  (0, 67451)\t1\n",
      "  (0, 72355)\t1\n",
      "  (0, 29310)\t1\n",
      "  (0, 25194)\t1\n"
     ]
    }
   ],
   "source": [
    "print dataset[0]"
   ]
  },
  {
   "cell_type": "code",
   "execution_count": 10,
   "metadata": {
    "collapsed": false
   },
   "outputs": [
    {
     "name": "stdout",
     "output_type": "stream",
     "text": [
      "CPU times: user 14.3 s, sys: 199 ms, total: 14.5 s\n",
      "Wall time: 7.4 s\n"
     ]
    }
   ],
   "source": [
    "%%time\n",
    "from sklearn.linear_model import LinearRegression, Lasso\n",
    "from sklearn.ensemble import RandomForestRegressor\n",
    "from sklearn.cross_validation import cross_val_score\n",
    "\n",
    "\n",
    "model = LinearRegression()#Lasso()\n",
    "model.fit(dataset[:10000], likes[:10000])"
   ]
  },
  {
   "cell_type": "code",
   "execution_count": 11,
   "metadata": {
    "collapsed": false
   },
   "outputs": [
    {
     "name": "stdout",
     "output_type": "stream",
     "text": [
      "2611.45050058\n"
     ]
    }
   ],
   "source": [
    "from sklearn.metrics import mean_squared_error\n",
    "\n",
    "preds = model.predict(dataset[10000:])\n",
    "print mean_squared_error(preds, likes[10000:]) ** 0.5"
   ]
  },
  {
   "cell_type": "code",
   "execution_count": null,
   "metadata": {
    "collapsed": true
   },
   "outputs": [],
   "source": [
    "Lasso?"
   ]
  },
  {
   "cell_type": "code",
   "execution_count": 88,
   "metadata": {
    "collapsed": false
   },
   "outputs": [
    {
     "name": "stdout",
     "output_type": "stream",
     "text": [
      "1635.36567052\n"
     ]
    }
   ],
   "source": [
    "test = u\"Задолбало уже ходить на эти пары, скорее бы работа началась! :(\"\n",
    "#test = u\"Котэ шрёдер аниме одмины\"\n",
    "\n",
    "print model.predict(vectorizer.transform([test]))[0]"
   ]
  },
  {
   "cell_type": "code",
   "execution_count": 12,
   "metadata": {
    "collapsed": true
   },
   "outputs": [],
   "source": [
    "import pickle\n",
    "\n",
    "with open('model_dump.pkl', 'w') as output_file:\n",
    "    pickle.dump(model, output_file)"
   ]
  },
  {
   "cell_type": "code",
   "execution_count": 13,
   "metadata": {
    "collapsed": true
   },
   "outputs": [],
   "source": [
    "with open('model_dump.pkl', 'r') as output_file:\n",
    "    model2 = pickle.load(output_file)"
   ]
  },
  {
   "cell_type": "code",
   "execution_count": 14,
   "metadata": {
    "collapsed": false
   },
   "outputs": [
    {
     "name": "stdout",
     "output_type": "stream",
     "text": [
      "LinearRegression(copy_X=True, fit_intercept=True, n_jobs=1, normalize=False)\n"
     ]
    }
   ],
   "source": [
    "print model2"
   ]
  },
  {
   "cell_type": "code",
   "execution_count": null,
   "metadata": {
    "collapsed": true
   },
   "outputs": [],
   "source": []
  }
 ],
 "metadata": {
  "kernelspec": {
   "display_name": "Python 2",
   "language": "python",
   "name": "python2"
  },
  "language_info": {
   "codemirror_mode": {
    "name": "ipython",
    "version": 2
   },
   "file_extension": ".py",
   "mimetype": "text/x-python",
   "name": "python",
   "nbconvert_exporter": "python",
   "pygments_lexer": "ipython2",
   "version": "2.7.11"
  }
 },
 "nbformat": 4,
 "nbformat_minor": 0
}
