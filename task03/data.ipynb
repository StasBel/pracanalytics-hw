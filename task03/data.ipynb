{
 "cells": [
  {
   "cell_type": "markdown",
   "metadata": {},
   "source": [
    "# Search Engines Market Analysis"
   ]
  },
  {
   "cell_type": "code",
   "execution_count": null,
   "metadata": {},
   "outputs": [],
   "source": [
    "%matplotlib inline\n",
    "\n",
    "import sys\n",
    "import requests\n",
    "import numpy as np\n",
    "import pandas as pd\n",
    "import seaborn as sns\n",
    "import matplotlib as mlp\n",
    "import matplotlib.pyplot as plt\n",
    "\n",
    "from itertools import product\n",
    "from dateutil.parser import parse\n",
    "from datetime import date, timedelta"
   ]
  },
  {
   "cell_type": "code",
   "execution_count": null,
   "metadata": {},
   "outputs": [],
   "source": [
    "# Plot\n",
    "plt.style.use('bmh')\n",
    "mlp.rcParams['figure.figsize'] = (16, 8)"
   ]
  },
  {
   "cell_type": "code",
   "execution_count": null,
   "metadata": {},
   "outputs": [],
   "source": [
    "%%capture\n",
    "# R\n",
    "from rpy2.robjects import r, pandas2ri as pd2\n",
    "pd2.activate()\n",
    "sys.path.extend(['./forecast-master', './forecast-master/forecast'])\n",
    "from forecast import forecast, stl, stldf, bind"
   ]
  },
  {
   "cell_type": "markdown",
   "metadata": {},
   "source": [
    "## Data Reading\n",
    "\n",
    "Считываем датасет `my_raw_data.csv`, полученный в `fetch.ipynb`.\n",
    "\n",
    "* `date` - дата по дням с 2014-01-01 до 2017-09-28 включительно\n",
    "* `se` - поисковая система, либо yandex либо search\n",
    "* `browser` - браузер, 5 типов\n",
    "* `hits` - количество хитов"
   ]
  },
  {
   "cell_type": "code",
   "execution_count": null,
   "metadata": {},
   "outputs": [],
   "source": [
    "df = pd.read_csv('my_raw_data.csv')\n",
    "df.isnull().values.any()  # Check if df has nan values."
   ]
  },
  {
   "cell_type": "code",
   "execution_count": null,
   "metadata": {},
   "outputs": [],
   "source": [
    "df.head()"
   ]
  },
  {
   "cell_type": "code",
   "execution_count": null,
   "metadata": {},
   "outputs": [],
   "source": [
    "df.tail()"
   ]
  },
  {
   "cell_type": "code",
   "execution_count": null,
   "metadata": {},
   "outputs": [],
   "source": [
    "FIRST_DAY, LAST_DAY = parse(df.date[0]), parse(df.date.iloc[-1])\n",
    "FIRST_DAY, LAST_DAY"
   ]
  },
  {
   "cell_type": "code",
   "execution_count": null,
   "metadata": {},
   "outputs": [],
   "source": [
    "df.describe()"
   ]
  },
  {
   "cell_type": "code",
   "execution_count": null,
   "metadata": {},
   "outputs": [],
   "source": [
    "SES, BROWSERS = np.unique(df['se']).tolist(), np.unique(df['browser']).tolist()\n",
    "SES, BROWSERS"
   ]
  },
  {
   "cell_type": "markdown",
   "metadata": {},
   "source": [
    "## Data Prerocessing\n",
    "\n",
    "Устраняем аномалии в данных."
   ]
  },
  {
   "cell_type": "markdown",
   "metadata": {},
   "source": [
    "### Дополним недостающие данные"
   ]
  },
  {
   "cell_type": "markdown",
   "metadata": {},
   "source": [
    "Заметим, что дней с первого до последнего рассматриваемого дня:"
   ]
  },
  {
   "cell_type": "code",
   "execution_count": null,
   "metadata": {},
   "outputs": [],
   "source": [
    "(LAST_DAY - FIRST_DAY).days + 1"
   ]
  },
  {
   "cell_type": "markdown",
   "metadata": {},
   "source": [
    "А в датасета на каждую из 10 пар se, brower есть:"
   ]
  },
  {
   "cell_type": "code",
   "execution_count": null,
   "metadata": {},
   "outputs": [],
   "source": [
    "df.groupby(['se', 'browser']).size()"
   ]
  },
  {
   "cell_type": "markdown",
   "metadata": {},
   "source": [
    "Пропущенные значение - 4 дня от 2014-12-28 до 2014-12-31, пока восстановим их нулями.  \n",
    "\n",
    "#NOTE: в новом датасет такой проблемы нет"
   ]
  },
  {
   "cell_type": "code",
   "execution_count": null,
   "metadata": {},
   "outputs": [],
   "source": [
    "# missing_dates = ['2014-12-28', '2014-12-29', '2014-12-30', '2014-12-31']\n",
    "# for date, se, browser in product(missing_dates, SES, BROWSERS):\n",
    "#     df = df.append({'date': date, 'se': se, 'browser': browser, 'hits': 0.0}, ignore_index=True)\n",
    "\n",
    "df.date = df.date.astype('datetime64[ns]')\n",
    "df.sort_values(df.columns.tolist(), inplace=True)\n",
    "df.reset_index(drop=True, inplace=True)\n",
    "df.dtypes"
   ]
  },
  {
   "cell_type": "markdown",
   "metadata": {},
   "source": [
    "Продолжим разбираться с данными."
   ]
  },
  {
   "cell_type": "code",
   "execution_count": null,
   "metadata": {},
   "outputs": [],
   "source": [
    "def plot_pivot(df_to_plot, columns, *, title=None):\n",
    "    data_args = {'index': 'date', 'values': 'hits', \n",
    "                 'columns': columns, 'aggfunc': np.sum}\n",
    "    plot_args = {'title': title or f'{columns} pivot'}\n",
    "    df_to_plot.pivot_table(**data_args).plot(**plot_args)\n",
    "\n",
    "\n",
    "def plot_fix(fix, df_to_plot, columns):\n",
    "    plot_pivot(df_to_plot, columns, title=f'before {fix.__name__}')\n",
    "    plot_pivot(fix(df_to_plot), columns, title=f'after {fix.__name__}')"
   ]
  },
  {
   "cell_type": "markdown",
   "metadata": {},
   "source": [
    "### Разрез `se`"
   ]
  },
  {
   "cell_type": "code",
   "execution_count": null,
   "metadata": {},
   "outputs": [],
   "source": [
    "plot_pivot(df, 'se')"
   ]
  },
  {
   "cell_type": "markdown",
   "metadata": {},
   "source": [
    "Что можно заметить?  \n",
    "Во-первых, первые пару дней в январе 2014 аномально маленькие (хоть это и новогодние праздники, но в других годах падение не такое существенное). Посмотрим поближе."
   ]
  },
  {
   "cell_type": "code",
   "execution_count": null,
   "metadata": {},
   "outputs": [],
   "source": [
    "plot_pivot(df[df.date <= '2014-02-01'], 'se')"
   ]
  },
  {
   "cell_type": "markdown",
   "metadata": {},
   "source": [
    "Видно, что можем отрезать префикм до 9-го числа."
   ]
  },
  {
   "cell_type": "code",
   "execution_count": null,
   "metadata": {},
   "outputs": [],
   "source": [
    "def fix_prefix(df): return df[df.date >= '2014-01-09']\n",
    "plot_fix(fix_prefix, df, 'se')"
   ]
  },
  {
   "cell_type": "code",
   "execution_count": null,
   "metadata": {},
   "outputs": [],
   "source": [
    "df = fix_prefix(df)"
   ]
  },
  {
   "cell_type": "markdown",
   "metadata": {},
   "source": [
    "Теперь посмотрим на аномальное низкие показатели в районе 2014-09, новый год 15-го и в районе 2015-03-15."
   ]
  },
  {
   "cell_type": "code",
   "execution_count": null,
   "metadata": {},
   "outputs": [],
   "source": [
    "plot_pivot(df[('2014-08-10' <= df.date) & (df.date <= '2014-08-30')], 'se', title='zero day')\n",
    "plot_pivot(df[('2014-11-25' <= df.date) & (df.date <= '2015-02-10')], 'se', title='zero span')\n",
    "plot_pivot(df[('2015-03-15' <= df.date) & (df.date <= '2015-04-10')], 'se', title='low anomally')"
   ]
  },
  {
   "cell_type": "markdown",
   "metadata": {},
   "source": [
    "Зафиксируем промежутки (значение подберем эмпирически - так быстрее)."
   ]
  },
  {
   "cell_type": "code",
   "execution_count": null,
   "metadata": {},
   "outputs": [],
   "source": [
    "ZDAY = '2014-08-21'\n",
    "ZSPAN = '2014-12-09', '2015-01-29'\n",
    "LSPAN = '2015-03-27', '2015-04-04'"
   ]
  },
  {
   "cell_type": "markdown",
   "metadata": {},
   "source": [
    "Напишем фикс.  \n",
    "Для нулевого дня возьмем среднее ближайших, для нулевого промежутка - перенесем и отскалируем со следующего года.  \n",
    "Для спайка перенесем со следующей недели."
   ]
  },
  {
   "cell_type": "code",
   "execution_count": null,
   "metadata": {},
   "outputs": [],
   "source": [
    "def fix_zeros_and_lower(df):\n",
    "    df = df.copy()\n",
    "    zday = parse(ZDAY)\n",
    "    zleft, zright = parse(ZSPAN[0]), parse(ZSPAN[1])\n",
    "    lleft, lright = parse(LSPAN[0]), parse(LSPAN[1])\n",
    "    \n",
    "    def past(d, days=1): return d - timedelta(days=days)\n",
    "    def seek(d, days=1): return d + timedelta(days=days)\n",
    "    \n",
    "    for se, browser in product(SES, BROWSERS):\n",
    "        cond = (df.se == se) & (df.browser == browser)\n",
    "        \n",
    "        prev_day = df.loc[cond & (df.date == past(zday)), 'hits'].values[0]\n",
    "        next_day = df.loc[cond & (df.date == seek(zday)), 'hits'].values[0]\n",
    "        df.loc[cond & (df.date == zday), 'hits'] = (prev_day + next_day) // 2\n",
    "        \n",
    "        nleft, nright = seek(zleft, days=365), seek(zright, days=365)\n",
    "        zleft_val = df.loc[cond & (df.date == past(zleft)), 'hits'].values[0]\n",
    "        nleft_val = df.loc[cond & (df.date == past(nleft)), 'hits'].values[0]\n",
    "        nspan = df.loc[cond & (nleft <= df.date) & (df.date <= nright), 'hits'].values\n",
    "        df.loc[cond & (zleft <= df.date) & (df.date <= zright), 'hits'] = nspan - nleft_val + zleft_val\n",
    "        \n",
    "        nvalues = df.loc[cond & (seek(lleft, days=7) <= df.date) & (df.date <= seek(lright, days=7)), 'hits']\n",
    "        df.loc[cond & (lleft <= df.date) & (df.date <= lright), 'hits'] = nvalues.values\n",
    "\n",
    "    return df\n",
    "\n",
    "\n",
    "plot_fix(fix_zeros_and_lower, df, 'se')"
   ]
  },
  {
   "cell_type": "code",
   "execution_count": null,
   "metadata": {},
   "outputs": [],
   "source": [
    "old_df = df\n",
    "df = fix_zeros_and_lower(df)"
   ]
  },
  {
   "cell_type": "markdown",
   "metadata": {},
   "source": [
    "### Разрез `browser`"
   ]
  },
  {
   "cell_type": "code",
   "execution_count": null,
   "metadata": {},
   "outputs": [],
   "source": [
    "plot_pivot(df, 'browser')"
   ]
  },
  {
   "cell_type": "markdown",
   "metadata": {},
   "source": [
    "Все ок, кроме спайка у хрома и оперы в серединке между 2014 и 2015. Посмотрим поближе."
   ]
  },
  {
   "cell_type": "code",
   "execution_count": null,
   "metadata": {},
   "outputs": [],
   "source": [
    "span = ('2014-03-10' <= df.date) & (df.date <= '2015-06-25')\n",
    "cond = span & ((df.browser == 'opera') | (df.browser == 'chrome'))\n",
    "plot_pivot(df[cond], 'browser')"
   ]
  },
  {
   "cell_type": "markdown",
   "metadata": {},
   "source": [
    "Напишем фикс, значения подберем эмпирически."
   ]
  },
  {
   "cell_type": "code",
   "execution_count": null,
   "metadata": {},
   "outputs": [],
   "source": [
    "SSPAN = '2014-06-15', '2014-06-21'\n",
    "OSPAN = '2014-06-06', '2014-06-22'\n",
    "\n",
    "\n",
    "def fix_spikes(df):\n",
    "    df = df.copy()\n",
    "    sleft, sright = parse(SSPAN[0]), parse(SSPAN[1])\n",
    "    oleft, oright = parse(OSPAN[0]), parse(OSPAN[1])\n",
    "    \n",
    "    def past(d, days=1): return d - timedelta(days=days)\n",
    "    def seek(d, days=1): return d + timedelta(days=days)\n",
    "    \n",
    "    for se in SES:\n",
    "        cond = (df.se == se) & (df.browser == 'chrome')\n",
    "        df.loc[cond & (sleft <= df.date) & (df.date <= sright), 'hits'] *= 0.8\n",
    "    \n",
    "    for se in SES:\n",
    "        cond = (df.se == se) & (df.browser == 'opera')\n",
    "        df.loc[cond & (oleft <= df.date) & (df.date <= oright), 'hits'] += (1e+7 / 2)\n",
    "    \n",
    "    return df\n",
    "\n",
    "\n",
    "plot_fix(fix_spikes, df, 'browser')"
   ]
  },
  {
   "cell_type": "markdown",
   "metadata": {},
   "source": [
    "Good. Еще раз посмотрим на оба среза."
   ]
  },
  {
   "cell_type": "code",
   "execution_count": null,
   "metadata": {},
   "outputs": [],
   "source": [
    "df = fix_spikes(df)"
   ]
  },
  {
   "cell_type": "code",
   "execution_count": null,
   "metadata": {},
   "outputs": [],
   "source": [
    "plot_pivot(df, 'se')\n",
    "plot_pivot(df, 'browser')"
   ]
  },
  {
   "cell_type": "markdown",
   "metadata": {},
   "source": [
    "Все ок. Остальные всплески очень похожи на сезонные явления."
   ]
  },
  {
   "cell_type": "code",
   "execution_count": null,
   "metadata": {},
   "outputs": [],
   "source": [
    "old_df['hits_fixed'] = np.round(df.hits)\n",
    "df = old_df"
   ]
  },
  {
   "cell_type": "markdown",
   "metadata": {},
   "source": [
    "## STL"
   ]
  },
  {
   "cell_type": "code",
   "execution_count": null,
   "metadata": {},
   "outputs": [],
   "source": [
    "bind(pd.DataFrame, stldf)\n",
    "bind(pd.Series, stl, forecast)\n",
    "\n",
    "new_columns = ['hits_week_trend', 'hits_week_seasonal', 'hits_year_trend', 'hits_year_seasonal']\n",
    "for column in new_columns:\n",
    "    df[column] = np.zeros(len(df))\n",
    "\n",
    "for se, browser in product(SES, BROWSERS):\n",
    "    cond = (df.se == se) & (df.browser == browser)\n",
    "    \n",
    "    ts = pd.Series(df.loc[cond, 'hits_fixed'].tolist(), index=df.loc[cond, 'date'])\n",
    "    res = ts.stl(frequency=7, method='arima')\n",
    "    trend = res.iloc[:, 1].as_matrix()\n",
    "    seasonal = (res.iloc[:, 0] + res.iloc[:, 1]).as_matrix()\n",
    "    df.loc[cond, 'hits_week_trend'] = np.round(trend)\n",
    "    df.loc[cond, 'hits_week_seasonal'] = np.round(seasonal)\n",
    "    \n",
    "    ts = pd.Series(trend, index=df.loc[cond, 'date'])\n",
    "    res = ts.stl(frequency=365, method='arima')\n",
    "    trend = res.iloc[:, 1].as_matrix()\n",
    "    seasonal = (res.iloc[:, 0] + res.iloc[:, 1]).as_matrix()\n",
    "    df.loc[cond, 'hits_year_trend'] = np.round(trend)\n",
    "    df.loc[cond, 'hits_year_seasonal'] = np.round(seasonal)"
   ]
  },
  {
   "cell_type": "markdown",
   "metadata": {},
   "source": [
    "Посмотрим на снятие недельной сезонности:"
   ]
  },
  {
   "cell_type": "code",
   "execution_count": null,
   "metadata": {},
   "outputs": [],
   "source": [
    "df.pivot_table(index='date', values='hits_week_trend', columns='browser', aggfunc=np.sum).plot();"
   ]
  },
  {
   "cell_type": "markdown",
   "metadata": {},
   "source": [
    "Годовой:"
   ]
  },
  {
   "cell_type": "code",
   "execution_count": null,
   "metadata": {},
   "outputs": [],
   "source": [
    "df.pivot_table(index='date', values='hits_year_trend', columns='browser', aggfunc=np.sum).plot();"
   ]
  },
  {
   "cell_type": "markdown",
   "metadata": {},
   "source": [
    "Сохраним результат в csv."
   ]
  },
  {
   "cell_type": "code",
   "execution_count": null,
   "metadata": {},
   "outputs": [],
   "source": [
    "df.to_csv('clean_data.csv', index=False)"
   ]
  }
 ],
 "metadata": {
  "kernelspec": {
   "display_name": "Python 3",
   "language": "python",
   "name": "python3"
  },
  "language_info": {
   "codemirror_mode": {
    "name": "ipython",
    "version": 3
   },
   "file_extension": ".py",
   "mimetype": "text/x-python",
   "name": "python",
   "nbconvert_exporter": "python",
   "pygments_lexer": "ipython3",
   "version": "3.6.2"
  }
 },
 "nbformat": 4,
 "nbformat_minor": 2
}
