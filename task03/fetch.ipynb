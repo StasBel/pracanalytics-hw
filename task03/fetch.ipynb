{
 "cells": [
  {
   "cell_type": "code",
   "execution_count": 1,
   "metadata": {},
   "outputs": [],
   "source": [
    "import tqdm\n",
    "import json\n",
    "import requests\n",
    "import pandas as pd\n",
    "import datetime as dt\n",
    "import dateutil as du\n",
    "import itertools as its\n",
    "\n",
    "from dateutil.relativedelta import relativedelta"
   ]
  },
  {
   "cell_type": "code",
   "execution_count": 2,
   "metadata": {},
   "outputs": [
    {
     "data": {
      "text/plain": [
       "'ru_RU.UTF-8'"
      ]
     },
     "execution_count": 2,
     "metadata": {},
     "output_type": "execute_result"
    }
   ],
   "source": [
    "# For dates parsing\n",
    "import locale\n",
    "locale.setlocale(locale.LC_TIME, 'ru_RU.UTF-8')"
   ]
  },
  {
   "cell_type": "code",
   "execution_count": 3,
   "metadata": {},
   "outputs": [
    {
     "data": {
      "text/plain": [
       "['yandex', 'search']"
      ]
     },
     "execution_count": 3,
     "metadata": {},
     "output_type": "execute_result"
    }
   ],
   "source": [
    "SE2CODE = {\n",
    "    'yandex': 1839501,\n",
    "    'search': 1839500\n",
    "}\n",
    "SES = list(SE2CODE.keys())\n",
    "SES"
   ]
  },
  {
   "cell_type": "markdown",
   "metadata": {},
   "source": [
    "Парсим до `2017-09-28`, потому что такая правая граница была в готовом датасете, с следующий код основывается на нем."
   ]
  },
  {
   "cell_type": "code",
   "execution_count": 4,
   "metadata": {},
   "outputs": [
    {
     "data": {
      "text/plain": [
       "'[2014-01-01 00:00:00, 2017-09-28 00:00:00]'"
      ]
     },
     "execution_count": 4,
     "metadata": {},
     "output_type": "execute_result"
    }
   ],
   "source": [
    "FIRST_DAY, LAST_DAY = du.parser.parse('2014-01-01'), du.parser.parse('2017-09-28')\n",
    "'[{}, {}]'.format(FIRST_DAY, LAST_DAY)"
   ]
  },
  {
   "cell_type": "code",
   "execution_count": 5,
   "metadata": {},
   "outputs": [
    {
     "data": {
      "text/plain": [
       "['2013-12-01', '2013-12-31', '2014-01-30', '2014-03-01']"
      ]
     },
     "execution_count": 5,
     "metadata": {},
     "output_type": "execute_result"
    }
   ],
   "source": [
    "END_DATES = pd.date_range(\n",
    "    FIRST_DAY - relativedelta(days=31), \n",
    "    end=LAST_DAY + relativedelta(days=31), \n",
    "    freq='30d'\n",
    ").map(lambda _: str(_)[:10]).tolist()\n",
    "END_DATES[:4]"
   ]
  },
  {
   "cell_type": "code",
   "execution_count": 6,
   "metadata": {},
   "outputs": [],
   "source": [
    "def fetch_raw(se, end_date):\n",
    "    return requests.get(\n",
    "        'https://top.mail.ru/json/browsersdynamics.hc?id={}&period=0&date={}&aggregation=sum&sids=firefox,opera,msie,chrome,chrome/chrome-yab&ytype=hits&gtype=line'\n",
    "        .format(SE2CODE[se], end_date)\n",
    "    ).text\n",
    "\n",
    "\n",
    "def parse_date(raw_date):\n",
    "    return dt.datetime.strptime(raw_date, '%d %b %Y')"
   ]
  },
  {
   "cell_type": "code",
   "execution_count": 7,
   "metadata": {},
   "outputs": [],
   "source": [
    "def parse_raw(raw, se, end_date):\n",
    "    raw_json = json.loads(raw)\n",
    "    \n",
    "    date = pd.Series(list(map(parse_date, raw_json['xAxis']['categories'])))\n",
    "    assert len(date) == 30\n",
    "    \n",
    "    if len(raw_json['series']) == 5:\n",
    "        zz = ((d['data'], d['sid']) for d in raw_json['series'])\n",
    "    else:\n",
    "        zz = zip(its.repeat(raw_json['series'][0]['data']),\n",
    "                ['chrome', 'firefox', 'msie', 'opera', 'yabrowser'])\n",
    "    zz = list(zz)\n",
    "    assert len(zz) == 5\n",
    "    \n",
    "    parts = []\n",
    "    for data, browser in zz:\n",
    "        part = pd.DataFrame(data).rename({'y': 'hits', 0: 'hits', '0': 'hits'}, axis=1)\n",
    "        part['date'] = date\n",
    "        part['se'] = se\n",
    "        part['browser'] = browser if browser != 'chrome/chrome-yab' else 'yabrowser'\n",
    "        part = part[['date', 'se', 'browser', 'hits']]\n",
    "        assert(len(part) == 30)\n",
    "        parts.append(part)\n",
    "    df = pd.concat(parts)\n",
    "    df.sort_values(df.columns.tolist(), inplace=True)\n",
    "    df.reset_index(drop=True, inplace=True)\n",
    "    df.loc[df.browser == 'chrome', 'hits'] = \\\n",
    "        df[df.browser == 'chrome']['hits'].as_matrix() - df[df.browser == 'yabrowser']['hits'].as_matrix()\n",
    "    assert len(df) == 150\n",
    "    return df"
   ]
  },
  {
   "cell_type": "code",
   "execution_count": 8,
   "metadata": {},
   "outputs": [
    {
     "data": {
      "application/vnd.jupyter.widget-view+json": {
       "model_id": "db3bf5979f8541f585d647dae688e5c2",
       "version_major": 2,
       "version_minor": 0
      },
      "text/html": [
       "<p>Failed to display Jupyter Widget of type <code>HBox</code>.</p>\n",
       "<p>\n",
       "  If you're reading this message in the Jupyter Notebook or JupyterLab Notebook, it may mean\n",
       "  that the widgets JavaScript is still loading. If this message persists, it\n",
       "  likely means that the widgets JavaScript library is either not installed or\n",
       "  not enabled. See the <a href=\"https://ipywidgets.readthedocs.io/en/stable/user_install.html\">Jupyter\n",
       "  Widgets Documentation</a> for setup instructions.\n",
       "</p>\n",
       "<p>\n",
       "  If you're reading this message in another frontend (for example, a static\n",
       "  rendering on GitHub or <a href=\"https://nbviewer.jupyter.org/\">NBViewer</a>),\n",
       "  it may mean that your frontend doesn't currently support widgets.\n",
       "</p>\n"
      ],
      "text/plain": [
       "HBox(children=(IntProgress(value=1, bar_style='info', max=1), HTML(value='')))"
      ]
     },
     "metadata": {},
     "output_type": "display_data"
    },
    {
     "name": "stdout",
     "output_type": "stream",
     "text": [
      "\n",
      "CPU times: user 4.55 s, sys: 172 ms, total: 4.72 s\n",
      "Wall time: 1min 53s\n"
     ]
    }
   ],
   "source": [
    "%%time\n",
    "parts = []\n",
    "for se, end_date in tqdm.tqdm_notebook(its.product(SES, END_DATES)):\n",
    "    raw = fetch_raw(se, end_date)\n",
    "    parts.append(parse_raw(raw, se, end_date))\n",
    "\n",
    "df = pd.concat(parts)\n",
    "df = df[(df.date >= FIRST_DAY) & (df.date <= LAST_DAY)]\n",
    "df.sort_values(df.columns.tolist(), inplace=True)\n",
    "df.reset_index(drop=True, inplace=True)\n",
    "assert len(df) == ((LAST_DAY - FIRST_DAY).days + 1) * len(SES) * 5"
   ]
  },
  {
   "cell_type": "code",
   "execution_count": 9,
   "metadata": {},
   "outputs": [
    {
     "data": {
      "text/html": [
       "<div>\n",
       "<style scoped>\n",
       "    .dataframe tbody tr th:only-of-type {\n",
       "        vertical-align: middle;\n",
       "    }\n",
       "\n",
       "    .dataframe tbody tr th {\n",
       "        vertical-align: top;\n",
       "    }\n",
       "\n",
       "    .dataframe thead th {\n",
       "        text-align: right;\n",
       "    }\n",
       "</style>\n",
       "<table border=\"1\" class=\"dataframe\">\n",
       "  <thead>\n",
       "    <tr style=\"text-align: right;\">\n",
       "      <th></th>\n",
       "      <th>date</th>\n",
       "      <th>se</th>\n",
       "      <th>browser</th>\n",
       "      <th>hits</th>\n",
       "    </tr>\n",
       "  </thead>\n",
       "  <tbody>\n",
       "    <tr>\n",
       "      <th>0</th>\n",
       "      <td>2014-01-01</td>\n",
       "      <td>search</td>\n",
       "      <td>chrome</td>\n",
       "      <td>44778823</td>\n",
       "    </tr>\n",
       "    <tr>\n",
       "      <th>1</th>\n",
       "      <td>2014-01-01</td>\n",
       "      <td>search</td>\n",
       "      <td>firefox</td>\n",
       "      <td>16417487</td>\n",
       "    </tr>\n",
       "    <tr>\n",
       "      <th>2</th>\n",
       "      <td>2014-01-01</td>\n",
       "      <td>search</td>\n",
       "      <td>msie</td>\n",
       "      <td>7056536</td>\n",
       "    </tr>\n",
       "    <tr>\n",
       "      <th>3</th>\n",
       "      <td>2014-01-01</td>\n",
       "      <td>search</td>\n",
       "      <td>opera</td>\n",
       "      <td>12246238</td>\n",
       "    </tr>\n",
       "    <tr>\n",
       "      <th>4</th>\n",
       "      <td>2014-01-01</td>\n",
       "      <td>search</td>\n",
       "      <td>yabrowser</td>\n",
       "      <td>8845385</td>\n",
       "    </tr>\n",
       "  </tbody>\n",
       "</table>\n",
       "</div>"
      ],
      "text/plain": [
       "        date      se    browser      hits\n",
       "0 2014-01-01  search     chrome  44778823\n",
       "1 2014-01-01  search    firefox  16417487\n",
       "2 2014-01-01  search       msie   7056536\n",
       "3 2014-01-01  search      opera  12246238\n",
       "4 2014-01-01  search  yabrowser   8845385"
      ]
     },
     "execution_count": 9,
     "metadata": {},
     "output_type": "execute_result"
    }
   ],
   "source": [
    "df.head()"
   ]
  },
  {
   "cell_type": "code",
   "execution_count": 10,
   "metadata": {},
   "outputs": [
    {
     "data": {
      "text/html": [
       "<div>\n",
       "<style scoped>\n",
       "    .dataframe tbody tr th:only-of-type {\n",
       "        vertical-align: middle;\n",
       "    }\n",
       "\n",
       "    .dataframe tbody tr th {\n",
       "        vertical-align: top;\n",
       "    }\n",
       "\n",
       "    .dataframe thead th {\n",
       "        text-align: right;\n",
       "    }\n",
       "</style>\n",
       "<table border=\"1\" class=\"dataframe\">\n",
       "  <thead>\n",
       "    <tr style=\"text-align: right;\">\n",
       "      <th></th>\n",
       "      <th>date</th>\n",
       "      <th>se</th>\n",
       "      <th>browser</th>\n",
       "      <th>hits</th>\n",
       "    </tr>\n",
       "  </thead>\n",
       "  <tbody>\n",
       "    <tr>\n",
       "      <th>13665</th>\n",
       "      <td>2017-09-28</td>\n",
       "      <td>yandex</td>\n",
       "      <td>chrome</td>\n",
       "      <td>10982236</td>\n",
       "    </tr>\n",
       "    <tr>\n",
       "      <th>13666</th>\n",
       "      <td>2017-09-28</td>\n",
       "      <td>yandex</td>\n",
       "      <td>firefox</td>\n",
       "      <td>5137327</td>\n",
       "    </tr>\n",
       "    <tr>\n",
       "      <th>13667</th>\n",
       "      <td>2017-09-28</td>\n",
       "      <td>yandex</td>\n",
       "      <td>msie</td>\n",
       "      <td>2133180</td>\n",
       "    </tr>\n",
       "    <tr>\n",
       "      <th>13668</th>\n",
       "      <td>2017-09-28</td>\n",
       "      <td>yandex</td>\n",
       "      <td>opera</td>\n",
       "      <td>3448505</td>\n",
       "    </tr>\n",
       "    <tr>\n",
       "      <th>13669</th>\n",
       "      <td>2017-09-28</td>\n",
       "      <td>yandex</td>\n",
       "      <td>yabrowser</td>\n",
       "      <td>11082319</td>\n",
       "    </tr>\n",
       "  </tbody>\n",
       "</table>\n",
       "</div>"
      ],
      "text/plain": [
       "            date      se    browser      hits\n",
       "13665 2017-09-28  yandex     chrome  10982236\n",
       "13666 2017-09-28  yandex    firefox   5137327\n",
       "13667 2017-09-28  yandex       msie   2133180\n",
       "13668 2017-09-28  yandex      opera   3448505\n",
       "13669 2017-09-28  yandex  yabrowser  11082319"
      ]
     },
     "execution_count": 10,
     "metadata": {},
     "output_type": "execute_result"
    }
   ],
   "source": [
    "df.tail()"
   ]
  },
  {
   "cell_type": "code",
   "execution_count": 11,
   "metadata": {},
   "outputs": [
    {
     "data": {
      "text/plain": [
       "date       datetime64[ns]\n",
       "se                 object\n",
       "browser            object\n",
       "hits                int64\n",
       "dtype: object"
      ]
     },
     "execution_count": 11,
     "metadata": {},
     "output_type": "execute_result"
    }
   ],
   "source": [
    "df.dtypes"
   ]
  },
  {
   "cell_type": "code",
   "execution_count": 12,
   "metadata": {},
   "outputs": [],
   "source": [
    "df.to_csv('my_raw_data.csv', index=False)"
   ]
  }
 ],
 "metadata": {
  "kernelspec": {
   "display_name": "Python 3",
   "language": "python",
   "name": "python3"
  },
  "language_info": {
   "codemirror_mode": {
    "name": "ipython",
    "version": 3
   },
   "file_extension": ".py",
   "mimetype": "text/x-python",
   "name": "python",
   "nbconvert_exporter": "python",
   "pygments_lexer": "ipython3",
   "version": "3.6.2"
  }
 },
 "nbformat": 4,
 "nbformat_minor": 2
}
